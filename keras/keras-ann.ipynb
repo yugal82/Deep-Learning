{
 "cells": [
  {
   "cell_type": "code",
   "execution_count": 1,
   "id": "7bc6d176-26af-40b7-a7ef-d5129d129511",
   "metadata": {},
   "outputs": [],
   "source": [
    "import numpy as np\n",
    "from random import randint\n",
    "import tensorflow as tf\n",
    "from tensorflow import keras\n",
    "from tensorflow.keras.models import Sequential\n",
    "from tensorflow.keras.layers import Activation, Dense\n",
    "from tensorflow.keras.optimizers import Adam\n",
    "from tensorflow.keras.metrics import categorical_crossentropy\n",
    "from sklearn.utils import shuffle\n",
    "from sklearn.preprocessing import MinMaxScaler"
   ]
  },
  {
   "cell_type": "code",
   "execution_count": 2,
   "id": "9af5011c-d3c3-4329-a8ec-6cc647586f29",
   "metadata": {},
   "outputs": [],
   "source": [
    "train_X = []\n",
    "train_y = []"
   ]
  },
  {
   "cell_type": "markdown",
   "id": "4749b9b3-fe94-4bc7-b806-d55cf28446d5",
   "metadata": {},
   "source": [
    "Example data:\n",
    "    - An experimental drug was tested on individuals from age 13 to 100 in a clinical trial.\n",
    "    - The trial had 2100 participants. Half were under 65 years of age and half were 65 years or older.\n",
    "    - Around 95% of patients 65 or older experienced side effects.\n",
    "    - Around 95% of patients under 65 experienced no side effects.\n",
    "\n",
    "Half of the participants were below 65\n",
    "    - i.e 13-64 age group must have 1050 samples\n",
    "Similary for individuals above 65.\n",
    "    -i.e 65-100 age group must have 1050 samples\n",
    "\n",
    "Now out of 1050 from 65-100 age group, \n",
    "    -95% had side effects i.e ~1000 samples had side effects\n",
    "    -5% had no side effects i.e ~50 samples had no side effects\n",
    "\n",
    "Now out of 1050 from 13-64 age group,\n",
    "    -5% had side effects i.e ~50 samples had side effects\n",
    "    -95% had no side effects i.e ~1000 samples had no side effects\n",
    "\n",
    "The above is the scenario, with the help of which we will create our custom dataset."
   ]
  },
  {
   "cell_type": "code",
   "execution_count": 3,
   "id": "8bd1ecba-fe48-4734-8159-df066bcd8b59",
   "metadata": {},
   "outputs": [],
   "source": [
    "for i in range(50):\n",
    "    # the 5% of younger individuals who had side effects\n",
    "    random_young = randint(13,64)\n",
    "    train_X.append(random_young)\n",
    "    train_y.append(1)\n",
    "\n",
    "    # the 5% of older individuals who had no side effects\n",
    "    random_old = randint(65,100)\n",
    "    train_X.append(random_old)\n",
    "    train_y.append(0)\n",
    "\n",
    "for i in range(1000):\n",
    "     # the 95% of younger individuals who had no side effects\n",
    "    random_young = randint(13,64)\n",
    "    train_X.append(random_young)\n",
    "    train_y.append(0)\n",
    "\n",
    "    # the 5% of older individuals who had side effects\n",
    "    random_old = randint(65,100)\n",
    "    train_X.append(random_old)\n",
    "    train_y.append(1)"
   ]
  },
  {
   "cell_type": "code",
   "execution_count": 4,
   "id": "b1218e79-29fe-4827-b77b-f130a49ea608",
   "metadata": {},
   "outputs": [],
   "source": [
    "train_X = np.array(train_X)\n",
    "train_y = np.array(train_y)"
   ]
  },
  {
   "cell_type": "code",
   "execution_count": 5,
   "id": "b0d3770c-a70a-44a3-a191-c0b6eab9b809",
   "metadata": {},
   "outputs": [],
   "source": [
    "train_X, train_y = shuffle(train_X, train_y)"
   ]
  },
  {
   "cell_type": "code",
   "execution_count": 6,
   "id": "880c044b-d437-44dc-9ab6-7df2e2af3d7f",
   "metadata": {},
   "outputs": [],
   "source": [
    "scaler = MinMaxScaler(feature_range=(0,1))\n",
    "train_X_scaled = scaler.fit_transform(train_X.reshape(-1,1))"
   ]
  },
  {
   "cell_type": "code",
   "execution_count": 7,
   "id": "60fb3fb6-a46c-4b81-b2d8-f511df5a2986",
   "metadata": {},
   "outputs": [],
   "source": [
    "model = Sequential([\n",
    "    Dense(units=16, input_shape=(1,) ,activation=\"relu\"),\n",
    "    Dense(units=32, activation=\"relu\"),\n",
    "    Dense(units=2, activation=\"softmax\")\n",
    "])"
   ]
  },
  {
   "cell_type": "code",
   "execution_count": 8,
   "id": "ef19c173-1997-409b-9ff2-ad8422800e44",
   "metadata": {},
   "outputs": [
    {
     "name": "stdout",
     "output_type": "stream",
     "text": [
      "Model: \"sequential\"\n",
      "_________________________________________________________________\n",
      " Layer (type)                Output Shape              Param #   \n",
      "=================================================================\n",
      " dense (Dense)               (None, 16)                32        \n",
      "                                                                 \n",
      " dense_1 (Dense)             (None, 32)                544       \n",
      "                                                                 \n",
      " dense_2 (Dense)             (None, 2)                 66        \n",
      "                                                                 \n",
      "=================================================================\n",
      "Total params: 642\n",
      "Trainable params: 642\n",
      "Non-trainable params: 0\n",
      "_________________________________________________________________\n"
     ]
    }
   ],
   "source": [
    "model.summary()"
   ]
  },
  {
   "cell_type": "code",
   "execution_count": 9,
   "id": "4c5911b4-9e3f-4731-8d04-02e081fff946",
   "metadata": {},
   "outputs": [],
   "source": [
    "model.compile(optimizer=Adam(learning_rate=0.0001), loss=\"sparse_categorical_crossentropy\", metrics=[\"accuracy\"])"
   ]
  },
  {
   "cell_type": "code",
   "execution_count": 10,
   "id": "c76e6cc1-5662-4838-955e-9c36d47eece9",
   "metadata": {},
   "outputs": [
    {
     "name": "stdout",
     "output_type": "stream",
     "text": [
      "Epoch 1/100\n",
      "60/60 [==============================] - 2s 10ms/step - loss: 0.7249 - accuracy: 0.4841 - val_loss: 0.7112 - val_accuracy: 0.5190\n",
      "Epoch 2/100\n",
      "60/60 [==============================] - 0s 4ms/step - loss: 0.7104 - accuracy: 0.4556 - val_loss: 0.7010 - val_accuracy: 0.5476\n",
      "Epoch 3/100\n",
      "60/60 [==============================] - 0s 4ms/step - loss: 0.6970 - accuracy: 0.5238 - val_loss: 0.6896 - val_accuracy: 0.7810\n",
      "Epoch 4/100\n",
      "60/60 [==============================] - 0s 4ms/step - loss: 0.6823 - accuracy: 0.7614 - val_loss: 0.6777 - val_accuracy: 0.6714\n",
      "Epoch 5/100\n",
      "60/60 [==============================] - 0s 4ms/step - loss: 0.6693 - accuracy: 0.7196 - val_loss: 0.6670 - val_accuracy: 0.6524\n",
      "Epoch 6/100\n",
      "60/60 [==============================] - 0s 4ms/step - loss: 0.6569 - accuracy: 0.7206 - val_loss: 0.6564 - val_accuracy: 0.6524\n",
      "Epoch 7/100\n",
      "60/60 [==============================] - 0s 4ms/step - loss: 0.6447 - accuracy: 0.7233 - val_loss: 0.6461 - val_accuracy: 0.6524\n",
      "Epoch 8/100\n",
      "60/60 [==============================] - 0s 4ms/step - loss: 0.6326 - accuracy: 0.7376 - val_loss: 0.6341 - val_accuracy: 0.7048\n",
      "Epoch 9/100\n",
      "60/60 [==============================] - 0s 4ms/step - loss: 0.6194 - accuracy: 0.7487 - val_loss: 0.6219 - val_accuracy: 0.7095\n",
      "Epoch 10/100\n",
      "60/60 [==============================] - 0s 4ms/step - loss: 0.6076 - accuracy: 0.7672 - val_loss: 0.6110 - val_accuracy: 0.7429\n",
      "Epoch 11/100\n",
      "60/60 [==============================] - 0s 4ms/step - loss: 0.5964 - accuracy: 0.7788 - val_loss: 0.6001 - val_accuracy: 0.7619\n",
      "Epoch 12/100\n",
      "60/60 [==============================] - 0s 5ms/step - loss: 0.5852 - accuracy: 0.7884 - val_loss: 0.5891 - val_accuracy: 0.7619\n",
      "Epoch 13/100\n",
      "60/60 [==============================] - 0s 4ms/step - loss: 0.5740 - accuracy: 0.7995 - val_loss: 0.5777 - val_accuracy: 0.7810\n",
      "Epoch 14/100\n",
      "60/60 [==============================] - 0s 4ms/step - loss: 0.5624 - accuracy: 0.8106 - val_loss: 0.5658 - val_accuracy: 0.7952\n",
      "Epoch 15/100\n",
      "60/60 [==============================] - 0s 4ms/step - loss: 0.5506 - accuracy: 0.8164 - val_loss: 0.5538 - val_accuracy: 0.8190\n",
      "Epoch 16/100\n",
      "60/60 [==============================] - 0s 4ms/step - loss: 0.5386 - accuracy: 0.8222 - val_loss: 0.5416 - val_accuracy: 0.8238\n",
      "Epoch 17/100\n",
      "60/60 [==============================] - 0s 4ms/step - loss: 0.5265 - accuracy: 0.8280 - val_loss: 0.5288 - val_accuracy: 0.8524\n",
      "Epoch 18/100\n",
      "60/60 [==============================] - 0s 4ms/step - loss: 0.5143 - accuracy: 0.8365 - val_loss: 0.5164 - val_accuracy: 0.8714\n",
      "Epoch 19/100\n",
      "60/60 [==============================] - 0s 4ms/step - loss: 0.5026 - accuracy: 0.8418 - val_loss: 0.5043 - val_accuracy: 0.8714\n",
      "Epoch 20/100\n",
      "60/60 [==============================] - 0s 4ms/step - loss: 0.4911 - accuracy: 0.8571 - val_loss: 0.4923 - val_accuracy: 0.8905\n",
      "Epoch 21/100\n",
      "60/60 [==============================] - 0s 4ms/step - loss: 0.4793 - accuracy: 0.8561 - val_loss: 0.4802 - val_accuracy: 0.8905\n",
      "Epoch 22/100\n",
      "60/60 [==============================] - 0s 4ms/step - loss: 0.4679 - accuracy: 0.8582 - val_loss: 0.4682 - val_accuracy: 0.8952\n",
      "Epoch 23/100\n",
      "60/60 [==============================] - 0s 4ms/step - loss: 0.4564 - accuracy: 0.8651 - val_loss: 0.4558 - val_accuracy: 0.9143\n",
      "Epoch 24/100\n",
      "60/60 [==============================] - 0s 4ms/step - loss: 0.4450 - accuracy: 0.8741 - val_loss: 0.4440 - val_accuracy: 0.9143\n",
      "Epoch 25/100\n",
      "60/60 [==============================] - 0s 4ms/step - loss: 0.4341 - accuracy: 0.8767 - val_loss: 0.4324 - val_accuracy: 0.9143\n",
      "Epoch 26/100\n",
      "60/60 [==============================] - 0s 4ms/step - loss: 0.4236 - accuracy: 0.8767 - val_loss: 0.4213 - val_accuracy: 0.9286\n",
      "Epoch 27/100\n",
      "60/60 [==============================] - 0s 4ms/step - loss: 0.4136 - accuracy: 0.8825 - val_loss: 0.4106 - val_accuracy: 0.9286\n",
      "Epoch 28/100\n",
      "60/60 [==============================] - 0s 4ms/step - loss: 0.4038 - accuracy: 0.8873 - val_loss: 0.3999 - val_accuracy: 0.9333\n",
      "Epoch 29/100\n",
      "60/60 [==============================] - 0s 4ms/step - loss: 0.3945 - accuracy: 0.8915 - val_loss: 0.3897 - val_accuracy: 0.9333\n",
      "Epoch 30/100\n",
      "60/60 [==============================] - 0s 4ms/step - loss: 0.3856 - accuracy: 0.8915 - val_loss: 0.3801 - val_accuracy: 0.9333\n",
      "Epoch 31/100\n",
      "60/60 [==============================] - 0s 4ms/step - loss: 0.3776 - accuracy: 0.8926 - val_loss: 0.3714 - val_accuracy: 0.9333\n",
      "Epoch 32/100\n",
      "60/60 [==============================] - 0s 4ms/step - loss: 0.3696 - accuracy: 0.8995 - val_loss: 0.3624 - val_accuracy: 0.9333\n",
      "Epoch 33/100\n",
      "60/60 [==============================] - 0s 4ms/step - loss: 0.3621 - accuracy: 0.8995 - val_loss: 0.3541 - val_accuracy: 0.9333\n",
      "Epoch 34/100\n",
      "60/60 [==============================] - 0s 4ms/step - loss: 0.3549 - accuracy: 0.9011 - val_loss: 0.3460 - val_accuracy: 0.9381\n",
      "Epoch 35/100\n",
      "60/60 [==============================] - 0s 4ms/step - loss: 0.3481 - accuracy: 0.9090 - val_loss: 0.3384 - val_accuracy: 0.9381\n",
      "Epoch 36/100\n",
      "60/60 [==============================] - 0s 4ms/step - loss: 0.3419 - accuracy: 0.9063 - val_loss: 0.3311 - val_accuracy: 0.9381\n",
      "Epoch 37/100\n",
      "60/60 [==============================] - 0s 4ms/step - loss: 0.3359 - accuracy: 0.9095 - val_loss: 0.3246 - val_accuracy: 0.9381\n",
      "Epoch 38/100\n",
      "60/60 [==============================] - 0s 4ms/step - loss: 0.3304 - accuracy: 0.9185 - val_loss: 0.3182 - val_accuracy: 0.9381\n",
      "Epoch 39/100\n",
      "60/60 [==============================] - 0s 4ms/step - loss: 0.3251 - accuracy: 0.9185 - val_loss: 0.3124 - val_accuracy: 0.9381\n",
      "Epoch 40/100\n",
      "60/60 [==============================] - 0s 4ms/step - loss: 0.3212 - accuracy: 0.9275 - val_loss: 0.3076 - val_accuracy: 0.9381\n",
      "Epoch 41/100\n",
      "60/60 [==============================] - 0s 4ms/step - loss: 0.3170 - accuracy: 0.9286 - val_loss: 0.3029 - val_accuracy: 0.9429\n",
      "Epoch 42/100\n",
      "60/60 [==============================] - 0s 4ms/step - loss: 0.3130 - accuracy: 0.9217 - val_loss: 0.2982 - val_accuracy: 0.9381\n",
      "Epoch 43/100\n",
      "60/60 [==============================] - 0s 4ms/step - loss: 0.3092 - accuracy: 0.9254 - val_loss: 0.2939 - val_accuracy: 0.9429\n",
      "Epoch 44/100\n",
      "60/60 [==============================] - 0s 4ms/step - loss: 0.3058 - accuracy: 0.9185 - val_loss: 0.2899 - val_accuracy: 0.9429\n",
      "Epoch 45/100\n",
      "60/60 [==============================] - 0s 4ms/step - loss: 0.3029 - accuracy: 0.9291 - val_loss: 0.2866 - val_accuracy: 0.9429\n",
      "Epoch 46/100\n",
      "60/60 [==============================] - 0s 4ms/step - loss: 0.3004 - accuracy: 0.9291 - val_loss: 0.2835 - val_accuracy: 0.9429\n",
      "Epoch 47/100\n",
      "60/60 [==============================] - 0s 4ms/step - loss: 0.2976 - accuracy: 0.9291 - val_loss: 0.2803 - val_accuracy: 0.9429\n",
      "Epoch 48/100\n",
      "60/60 [==============================] - 0s 4ms/step - loss: 0.2950 - accuracy: 0.9291 - val_loss: 0.2772 - val_accuracy: 0.9429\n",
      "Epoch 49/100\n",
      "60/60 [==============================] - 0s 5ms/step - loss: 0.2928 - accuracy: 0.9291 - val_loss: 0.2740 - val_accuracy: 0.9429\n",
      "Epoch 50/100\n",
      "60/60 [==============================] - 0s 5ms/step - loss: 0.2905 - accuracy: 0.9328 - val_loss: 0.2716 - val_accuracy: 0.9429\n",
      "Epoch 51/100\n",
      "60/60 [==============================] - 0s 5ms/step - loss: 0.2884 - accuracy: 0.9328 - val_loss: 0.2688 - val_accuracy: 0.9429\n",
      "Epoch 52/100\n",
      "60/60 [==============================] - 0s 4ms/step - loss: 0.2863 - accuracy: 0.9291 - val_loss: 0.2665 - val_accuracy: 0.9429\n",
      "Epoch 53/100\n",
      "60/60 [==============================] - 0s 4ms/step - loss: 0.2845 - accuracy: 0.9339 - val_loss: 0.2641 - val_accuracy: 0.9429\n",
      "Epoch 54/100\n",
      "60/60 [==============================] - 0s 4ms/step - loss: 0.2828 - accuracy: 0.9291 - val_loss: 0.2619 - val_accuracy: 0.9429\n",
      "Epoch 55/100\n",
      "60/60 [==============================] - 0s 5ms/step - loss: 0.2812 - accuracy: 0.9291 - val_loss: 0.2599 - val_accuracy: 0.9429\n",
      "Epoch 56/100\n",
      "60/60 [==============================] - 0s 4ms/step - loss: 0.2796 - accuracy: 0.9370 - val_loss: 0.2581 - val_accuracy: 0.9476\n",
      "Epoch 57/100\n",
      "60/60 [==============================] - 0s 4ms/step - loss: 0.2785 - accuracy: 0.9376 - val_loss: 0.2568 - val_accuracy: 0.9476\n",
      "Epoch 58/100\n",
      "60/60 [==============================] - 0s 4ms/step - loss: 0.2776 - accuracy: 0.9376 - val_loss: 0.2556 - val_accuracy: 0.9476\n",
      "Epoch 59/100\n",
      "60/60 [==============================] - 0s 4ms/step - loss: 0.2761 - accuracy: 0.9376 - val_loss: 0.2536 - val_accuracy: 0.9476\n",
      "Epoch 60/100\n",
      "60/60 [==============================] - 0s 4ms/step - loss: 0.2752 - accuracy: 0.9376 - val_loss: 0.2522 - val_accuracy: 0.9476\n",
      "Epoch 61/100\n",
      "60/60 [==============================] - 0s 4ms/step - loss: 0.2740 - accuracy: 0.9376 - val_loss: 0.2506 - val_accuracy: 0.9476\n",
      "Epoch 62/100\n",
      "60/60 [==============================] - 0s 4ms/step - loss: 0.2729 - accuracy: 0.9376 - val_loss: 0.2493 - val_accuracy: 0.9476\n",
      "Epoch 63/100\n",
      "60/60 [==============================] - 0s 4ms/step - loss: 0.2719 - accuracy: 0.9376 - val_loss: 0.2480 - val_accuracy: 0.9476\n",
      "Epoch 64/100\n",
      "60/60 [==============================] - 0s 4ms/step - loss: 0.2711 - accuracy: 0.9317 - val_loss: 0.2467 - val_accuracy: 0.9476\n",
      "Epoch 65/100\n",
      "60/60 [==============================] - 0s 4ms/step - loss: 0.2700 - accuracy: 0.9376 - val_loss: 0.2455 - val_accuracy: 0.9476\n",
      "Epoch 66/100\n",
      "60/60 [==============================] - 0s 4ms/step - loss: 0.2693 - accuracy: 0.9376 - val_loss: 0.2444 - val_accuracy: 0.9476\n",
      "Epoch 67/100\n",
      "60/60 [==============================] - 0s 4ms/step - loss: 0.2683 - accuracy: 0.9376 - val_loss: 0.2431 - val_accuracy: 0.9476\n",
      "Epoch 68/100\n",
      "60/60 [==============================] - 0s 4ms/step - loss: 0.2676 - accuracy: 0.9376 - val_loss: 0.2422 - val_accuracy: 0.9476\n",
      "Epoch 69/100\n",
      "60/60 [==============================] - 0s 4ms/step - loss: 0.2668 - accuracy: 0.9376 - val_loss: 0.2411 - val_accuracy: 0.9476\n",
      "Epoch 70/100\n",
      "60/60 [==============================] - 0s 4ms/step - loss: 0.2660 - accuracy: 0.9376 - val_loss: 0.2401 - val_accuracy: 0.9476\n",
      "Epoch 71/100\n",
      "60/60 [==============================] - 0s 4ms/step - loss: 0.2655 - accuracy: 0.9376 - val_loss: 0.2394 - val_accuracy: 0.9476\n",
      "Epoch 72/100\n",
      "60/60 [==============================] - 0s 4ms/step - loss: 0.2647 - accuracy: 0.9376 - val_loss: 0.2384 - val_accuracy: 0.9476\n",
      "Epoch 73/100\n",
      "60/60 [==============================] - 0s 4ms/step - loss: 0.2640 - accuracy: 0.9376 - val_loss: 0.2376 - val_accuracy: 0.9476\n",
      "Epoch 74/100\n",
      "60/60 [==============================] - 0s 4ms/step - loss: 0.2635 - accuracy: 0.9376 - val_loss: 0.2368 - val_accuracy: 0.9476\n",
      "Epoch 75/100\n",
      "60/60 [==============================] - 0s 4ms/step - loss: 0.2628 - accuracy: 0.9376 - val_loss: 0.2360 - val_accuracy: 0.9476\n",
      "Epoch 76/100\n",
      "60/60 [==============================] - 0s 4ms/step - loss: 0.2623 - accuracy: 0.9376 - val_loss: 0.2352 - val_accuracy: 0.9476\n",
      "Epoch 77/100\n",
      "60/60 [==============================] - 0s 4ms/step - loss: 0.2617 - accuracy: 0.9376 - val_loss: 0.2345 - val_accuracy: 0.9476\n",
      "Epoch 78/100\n",
      "60/60 [==============================] - 0s 4ms/step - loss: 0.2612 - accuracy: 0.9376 - val_loss: 0.2338 - val_accuracy: 0.9476\n",
      "Epoch 79/100\n",
      "60/60 [==============================] - 0s 4ms/step - loss: 0.2606 - accuracy: 0.9376 - val_loss: 0.2332 - val_accuracy: 0.9476\n",
      "Epoch 80/100\n",
      "60/60 [==============================] - 0s 4ms/step - loss: 0.2601 - accuracy: 0.9376 - val_loss: 0.2325 - val_accuracy: 0.9476\n",
      "Epoch 81/100\n",
      "60/60 [==============================] - 0s 4ms/step - loss: 0.2596 - accuracy: 0.9376 - val_loss: 0.2325 - val_accuracy: 0.9476\n",
      "Epoch 82/100\n",
      "60/60 [==============================] - 0s 4ms/step - loss: 0.2592 - accuracy: 0.9376 - val_loss: 0.2319 - val_accuracy: 0.9476\n",
      "Epoch 83/100\n",
      "60/60 [==============================] - 0s 4ms/step - loss: 0.2589 - accuracy: 0.9413 - val_loss: 0.2313 - val_accuracy: 0.9476\n",
      "Epoch 84/100\n",
      "60/60 [==============================] - 0s 4ms/step - loss: 0.2585 - accuracy: 0.9386 - val_loss: 0.2306 - val_accuracy: 0.9476\n",
      "Epoch 85/100\n",
      "60/60 [==============================] - 0s 4ms/step - loss: 0.2579 - accuracy: 0.9423 - val_loss: 0.2303 - val_accuracy: 0.9476\n",
      "Epoch 86/100\n",
      "60/60 [==============================] - 0s 4ms/step - loss: 0.2574 - accuracy: 0.9376 - val_loss: 0.2295 - val_accuracy: 0.9476\n",
      "Epoch 87/100\n",
      "60/60 [==============================] - 0s 4ms/step - loss: 0.2570 - accuracy: 0.9381 - val_loss: 0.2295 - val_accuracy: 0.9476\n",
      "Epoch 88/100\n",
      "60/60 [==============================] - 0s 4ms/step - loss: 0.2568 - accuracy: 0.9444 - val_loss: 0.2287 - val_accuracy: 0.9476\n",
      "Epoch 89/100\n",
      "60/60 [==============================] - 0s 4ms/step - loss: 0.2564 - accuracy: 0.9376 - val_loss: 0.2281 - val_accuracy: 0.9476\n",
      "Epoch 90/100\n",
      "60/60 [==============================] - 0s 4ms/step - loss: 0.2560 - accuracy: 0.9376 - val_loss: 0.2278 - val_accuracy: 0.9476\n",
      "Epoch 91/100\n",
      "60/60 [==============================] - 0s 4ms/step - loss: 0.2556 - accuracy: 0.9407 - val_loss: 0.2277 - val_accuracy: 0.9476\n",
      "Epoch 92/100\n",
      "60/60 [==============================] - 0s 4ms/step - loss: 0.2553 - accuracy: 0.9376 - val_loss: 0.2271 - val_accuracy: 0.9476\n",
      "Epoch 93/100\n",
      "60/60 [==============================] - 0s 4ms/step - loss: 0.2551 - accuracy: 0.9386 - val_loss: 0.2267 - val_accuracy: 0.9476\n",
      "Epoch 94/100\n",
      "60/60 [==============================] - 0s 4ms/step - loss: 0.2547 - accuracy: 0.9376 - val_loss: 0.2265 - val_accuracy: 0.9476\n",
      "Epoch 95/100\n",
      "60/60 [==============================] - 0s 4ms/step - loss: 0.2543 - accuracy: 0.9376 - val_loss: 0.2260 - val_accuracy: 0.9476\n",
      "Epoch 96/100\n",
      "60/60 [==============================] - 0s 4ms/step - loss: 0.2539 - accuracy: 0.9381 - val_loss: 0.2258 - val_accuracy: 0.9476\n",
      "Epoch 97/100\n",
      "60/60 [==============================] - 0s 4ms/step - loss: 0.2537 - accuracy: 0.9376 - val_loss: 0.2253 - val_accuracy: 0.9476\n",
      "Epoch 98/100\n",
      "60/60 [==============================] - 0s 4ms/step - loss: 0.2533 - accuracy: 0.9413 - val_loss: 0.2251 - val_accuracy: 0.9476\n",
      "Epoch 99/100\n",
      "60/60 [==============================] - 0s 4ms/step - loss: 0.2530 - accuracy: 0.9376 - val_loss: 0.2248 - val_accuracy: 0.9476\n",
      "Epoch 100/100\n",
      "60/60 [==============================] - 0s 4ms/step - loss: 0.2527 - accuracy: 0.9444 - val_loss: 0.2246 - val_accuracy: 0.9476\n"
     ]
    },
    {
     "data": {
      "text/plain": [
       "<keras.callbacks.History at 0x172ea24d570>"
      ]
     },
     "execution_count": 10,
     "metadata": {},
     "output_type": "execute_result"
    }
   ],
   "source": [
    "model.fit(train_X_scaled, train_y, validation_split=0.1, epochs=100)"
   ]
  },
  {
   "cell_type": "code",
   "execution_count": 11,
   "id": "b136cd07-8360-41ef-92d5-b14343ae2810",
   "metadata": {},
   "outputs": [],
   "source": [
    "test_X = []\n",
    "test_y = []\n",
    "\n",
    "for i in range(10):\n",
    "    # the 5% of younger individuals who had side effects\n",
    "    random_young = randint(13,64)\n",
    "    test_X.append(random_young)\n",
    "    test_y.append(1)\n",
    "\n",
    "    # the 5% of older individuals who had no side effects\n",
    "    random_old = randint(65,100)\n",
    "    test_X.append(random_old)\n",
    "    test_y.append(0)\n",
    "\n",
    "for i in range(200):\n",
    "     # the 95% of younger individuals who had no side effects\n",
    "    random_young = randint(13,64)\n",
    "    test_X.append(random_young)\n",
    "    test_y.append(0)\n",
    "\n",
    "    # the 5% of older individuals who had side effects\n",
    "    random_old = randint(65,100)\n",
    "    test_X.append(random_old)\n",
    "    test_y.append(1)\n",
    "\n",
    "\n",
    "test_X = np.array(test_X)\n",
    "test_y = np.array(test_y)\n",
    "test_X, test_y = shuffle(test_X, test_y)"
   ]
  },
  {
   "cell_type": "code",
   "execution_count": 13,
   "id": "2a5cf6e7-9da3-4519-b1ea-3efced8b325c",
   "metadata": {},
   "outputs": [],
   "source": [
    "scaler = MinMaxScaler(feature_range=(0,1))\n",
    "test_X_scaled = scaler.fit_transform(test_X.reshape(-1,1))"
   ]
  },
  {
   "cell_type": "code",
   "execution_count": 23,
   "id": "8fc5873b-6cdb-4d87-b7fd-d36a832210d0",
   "metadata": {},
   "outputs": [
    {
     "name": "stdout",
     "output_type": "stream",
     "text": [
      "14/14 [==============================] - 0s 2ms/step\n"
     ]
    }
   ],
   "source": [
    "y_preds = model.predict(test_X_scaled)"
   ]
  },
  {
   "cell_type": "code",
   "execution_count": 24,
   "id": "25902cf2-cde2-40a0-95d7-235dd013f0da",
   "metadata": {},
   "outputs": [
    {
     "data": {
      "text/plain": [
       "array([1, 0, 0, 0, 0, 1, 1, 0, 1, 0, 1, 1, 1, 1, 0, 0, 1, 0, 0, 0, 1, 1,\n",
       "       1, 0, 0, 0, 1, 0, 0, 0, 1, 1, 1, 0, 0, 0, 0, 0, 1, 0, 1, 0, 1, 0,\n",
       "       1, 1, 1, 1, 1, 0, 0, 0, 1, 1, 1, 1, 0, 0, 0, 1, 1, 0, 1, 1, 1, 0,\n",
       "       1, 1, 0, 1, 0, 0, 1, 1, 1, 0, 0, 1, 0, 0, 1, 1, 0, 1, 0, 1, 1, 0,\n",
       "       0, 1, 0, 1, 0, 0, 1, 1, 0, 0, 0, 1, 1, 0, 1, 1, 1, 1, 0, 1, 0, 1,\n",
       "       0, 1, 1, 0, 1, 1, 1, 0, 0, 0, 1, 1, 0, 1, 1, 0, 0, 0, 0, 0, 1, 0,\n",
       "       0, 1, 1, 1, 1, 0, 1, 0, 1, 0, 1, 0, 0, 0, 0, 0, 1, 1, 0, 0, 1, 0,\n",
       "       1, 1, 1, 0, 0, 0, 0, 1, 0, 0, 0, 1, 1, 1, 0, 0, 1, 1, 1, 0, 1, 0,\n",
       "       1, 0, 0, 0, 0, 1, 1, 1, 1, 1, 0, 0, 0, 1, 1, 1, 1, 0, 1, 1, 0, 1,\n",
       "       1, 0, 1, 0, 0, 0, 1, 0, 1, 1, 0, 1, 0, 1, 0, 1, 1, 0, 1, 0, 0, 1,\n",
       "       1, 0, 1, 1, 1, 0, 0, 1, 1, 1, 0, 0, 1, 1, 1, 1, 0, 0, 1, 1, 0, 1,\n",
       "       0, 1, 1, 0, 0, 1, 1, 0, 0, 0, 0, 0, 0, 1, 0, 1, 0, 0, 0, 0, 0, 0,\n",
       "       1, 0, 0, 1, 1, 1, 0, 0, 0, 0, 1, 1, 1, 0, 1, 0, 1, 1, 0, 0, 1, 0,\n",
       "       0, 0, 0, 0, 0, 1, 0, 1, 1, 0, 0, 1, 0, 1, 1, 0, 0, 0, 1, 0, 1, 0,\n",
       "       1, 1, 0, 1, 1, 1, 1, 1, 1, 1, 0, 0, 1, 1, 1, 0, 0, 0, 1, 0, 0, 1,\n",
       "       1, 1, 0, 1, 0, 0, 1, 0, 0, 1, 0, 0, 0, 0, 0, 1, 1, 0, 0, 0, 0, 1,\n",
       "       1, 1, 0, 0, 1, 1, 1, 0, 0, 0, 1, 1, 1, 1, 0, 0, 0, 0, 0, 1, 1, 1,\n",
       "       0, 0, 1, 1, 1, 1, 1, 1, 1, 0, 0, 1, 0, 0, 0, 0, 1, 0, 0, 0, 1, 1,\n",
       "       1, 0, 1, 1, 1, 0, 1, 1, 1, 1, 1, 0, 1, 0, 0, 1, 1, 1, 1, 0, 1, 0,\n",
       "       0, 1], dtype=int64)"
      ]
     },
     "execution_count": 24,
     "metadata": {},
     "output_type": "execute_result"
    }
   ],
   "source": [
    "y_preds = np.argmax(y_preds, axis=-1)\n",
    "y_preds"
   ]
  },
  {
   "cell_type": "code",
   "execution_count": 25,
   "id": "b52f7297-3633-4c22-b300-f23f98370f6b",
   "metadata": {},
   "outputs": [],
   "source": [
    "%matplotlib inline\n",
    "from sklearn.metrics import confusion_matrix\n",
    "import itertools\n",
    "import matplotlib.pyplot as plt"
   ]
  },
  {
   "cell_type": "code",
   "execution_count": 26,
   "id": "0febe80d-9701-4aba-98a9-051891496d75",
   "metadata": {},
   "outputs": [
    {
     "data": {
      "text/plain": [
       "array([[198,  12],\n",
       "       [ 10, 200]], dtype=int64)"
      ]
     },
     "execution_count": 26,
     "metadata": {},
     "output_type": "execute_result"
    }
   ],
   "source": [
    "cm = confusion_matrix(y_true=test_y, y_pred=y_preds)\n",
    "cm"
   ]
  },
  {
   "cell_type": "code",
   "execution_count": 30,
   "id": "40e031bc-bc2d-4df4-8900-47c8b40ba65c",
   "metadata": {},
   "outputs": [],
   "source": [
    "def plot_cm(cm, classes, normalize=False, title=\"Confusion Matrix\", cmap=plt.cm.Blues):\n",
    "    plt.imshow(cm, interpolation='nearest', cmap=cmap)\n",
    "    plt.title(title)\n",
    "    plt.colorbar()\n",
    "    tick_marks = np.arange(len(classes))\n",
    "    plt.xticks(tick_marks, classes, rotation=45)\n",
    "    plt.yticks(tick_marks, classes)\n",
    "\n",
    "    if normalize:\n",
    "        cm = cm.astype(\"float\")/cm.sum(axis=1)[:, np.newaxis]\n",
    "        print(\"Normalized confusion matrix\")\n",
    "    else:\n",
    "        print(\"confusion matrix without normalized\")\n",
    "    print(cm)\n",
    "\n",
    "    thresh = cm.max()/2\n",
    "    for i, j in itertools.product(range(cm.shape[0]), range(cm.shape[1])):\n",
    "        plt.text(j, i, cm[i,j], horizontalalignment=\"center\", color=\"white\" if cm[i,j] > thresh else \"black\")\n",
    "\n",
    "    plt.tight_layout()\n",
    "    plt.xlabel(\"True label\")\n",
    "    plt.ylabel(\"predicted label\")"
   ]
  },
  {
   "cell_type": "code",
   "execution_count": 31,
   "id": "7eb8a6be-6bb4-4762-ae58-8570668890ec",
   "metadata": {},
   "outputs": [
    {
     "name": "stdout",
     "output_type": "stream",
     "text": [
      "confusion matrix without normalized\n",
      "[[198  12]\n",
      " [ 10 200]]\n"
     ]
    },
    {
     "data": {
      "image/png": "[encoded data removed]",
      "text/plain": [
       "<Figure size 640x480 with 2 Axes>"
      ]
     },
     "metadata": {},
     "output_type": "display_data"
    }
   ],
   "source": [
    "cm_plot_labels = [\"no_side_effects\", \"side_effects\"]\n",
    "plot_cm(cm, cm_plot_labels)"
   ]
  },
  {
   "cell_type": "code",
   "execution_count": null,
   "id": "749c7032-d3f7-473f-8df3-8c5119e790df",
   "metadata": {},
   "outputs": [],
   "source": []
  }
 ],
 "metadata": {
  "kernelspec": {
   "display_name": "Python 3 (ipykernel)",
   "language": "python",
   "name": "python3"
  },
  "language_info": {
   "codemirror_mode": {
    "name": "ipython",
    "version": 3
   },
   "file_extension": ".py",
   "mimetype": "text/x-python",
   "name": "python",
   "nbconvert_exporter": "python",
   "pygments_lexer": "ipython3",
   "version": "3.10.4"
  }
 },
 "nbformat": 4,
 "nbformat_minor": 5
}
