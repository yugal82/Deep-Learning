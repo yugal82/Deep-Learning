{
 "cells": [
  {
   "cell_type": "code",
   "execution_count": 2,
   "id": "187d0b54-0f9e-434e-bb6c-78951eb805b8",
   "metadata": {},
   "outputs": [],
   "source": [
    "import os\n",
    "import pandas as pd\n",
    "import numpy as np\n",
    "import torch\n",
    "from torch import nn\n",
    "from torch.utils.data import DataLoader\n",
    "from torchvision import datasets, transforms"
   ]
  },
  {
   "cell_type": "code",
   "execution_count": 3,
   "id": "c9bb59f2-d085-4382-9104-6a2ff8f6796e",
   "metadata": {},
   "outputs": [],
   "source": [
    "class NeuralNetwork(nn.Module):\n",
    "    def __init__(self):\n",
    "        super(NeuralNetwork, self).__init__()\n",
    "        self.flatten = nn.Flatten()\n",
    "        self.linear_relu_stack = nn.Sequential(\n",
    "            nn.Linear(28*28, 512),\n",
    "            nn.ReLU(),\n",
    "            nn.Linear(512,512),\n",
    "            nn.ReLU(),\n",
    "            nn.Linear(512, 10)\n",
    "        )\n",
    "        \n",
    "    def forward(self, X):\n",
    "        x = self.flatten(X)\n",
    "        logits = self.linear_relu_stack(x)\n",
    "        return logits\n",
    "        "
   ]
  },
  {
   "cell_type": "code",
   "execution_count": 4,
   "id": "1dd01ec1-cf2e-4ce6-bdb0-825d91f12554",
   "metadata": {},
   "outputs": [
    {
     "data": {
      "text/plain": [
       "NeuralNetwork(\n",
       "  (flatten): Flatten(start_dim=1, end_dim=-1)\n",
       "  (linear_relu_stack): Sequential(\n",
       "    (0): Linear(in_features=784, out_features=512, bias=True)\n",
       "    (1): ReLU()\n",
       "    (2): Linear(in_features=512, out_features=512, bias=True)\n",
       "    (3): ReLU()\n",
       "    (4): Linear(in_features=512, out_features=10, bias=True)\n",
       "  )\n",
       ")"
      ]
     },
     "execution_count": 4,
     "metadata": {},
     "output_type": "execute_result"
    }
   ],
   "source": [
    "model = NeuralNetwork()\n",
    "model"
   ]
  },
  {
   "cell_type": "code",
   "execution_count": 5,
   "id": "d905ac7e-288e-4c14-b7c1-be7603f316d3",
   "metadata": {},
   "outputs": [
    {
     "name": "stdout",
     "output_type": "stream",
     "text": [
      "Predicted class is: tensor([4])\n"
     ]
    }
   ],
   "source": [
    "X = torch.rand(1, 28, 28)\n",
    "logits = model(X)\n",
    "pred_prob = nn.Softmax(dim=1)(logits)\n",
    "y_pred = pred_prob.argmax(1)\n",
    "print(f\"Predicted class is: {y_pred}\")"
   ]
  },
  {
   "cell_type": "code",
   "execution_count": 6,
   "id": "a89651f9-080c-4b8c-ba02-228987c86e37",
   "metadata": {},
   "outputs": [],
   "source": [
    "input_image = torch.rand(3, 28, 28)"
   ]
  },
  {
   "cell_type": "code",
   "execution_count": 7,
   "id": "3bcb9e8a-2d26-4713-8fbb-236d703535f0",
   "metadata": {},
   "outputs": [
    {
     "data": {
      "text/plain": [
       "torch.Size([3, 784])"
      ]
     },
     "execution_count": 7,
     "metadata": {},
     "output_type": "execute_result"
    }
   ],
   "source": [
    "flatten = nn.Flatten()\n",
    "flat_imgs = flatten(input_image)\n",
    "flat_imgs.size()"
   ]
  },
  {
   "cell_type": "code",
   "execution_count": 8,
   "id": "5a27bdee-729b-46e3-9c58-0bf9599c3636",
   "metadata": {},
   "outputs": [
    {
     "name": "stdout",
     "output_type": "stream",
     "text": [
      "torch.Size([3, 20])\n"
     ]
    }
   ],
   "source": [
    "layer1 = nn.Linear(in_features=28*28, out_features=20)\n",
    "hidden1 = layer1(flat_imgs)\n",
    "print(hidden1.size())"
   ]
  },
  {
   "cell_type": "code",
   "execution_count": 11,
   "id": "74018c28",
   "metadata": {},
   "outputs": [
    {
     "name": "stdout",
     "output_type": "stream",
     "text": [
      "Before ReLU: tensor([[-0.0143,  0.1273, -0.1933,  0.4142, -0.6719, -0.0749, -0.0746, -0.7619,\n",
      "          0.2051,  0.2606,  0.3201, -0.2312,  0.4031, -0.2894,  0.2028, -0.2762,\n",
      "         -0.3364,  0.6014,  0.1616, -0.0910],\n",
      "        [ 0.1039,  0.1939, -0.2349, -0.1167, -0.4669, -0.0742, -0.5857, -0.6292,\n",
      "          0.0951,  0.2352,  0.4781, -0.1776,  0.2166, -0.2765, -0.0506,  0.0349,\n",
      "         -0.3962,  0.5190,  0.2484, -0.1704],\n",
      "        [ 0.0572,  0.1450, -0.7329,  0.4308, -1.0035, -0.0505, -0.1711, -0.6361,\n",
      "          0.1910,  0.4054,  0.4508,  0.0079,  0.4659, -0.2702, -0.0914, -0.1448,\n",
      "         -0.3654,  0.3010,  0.0276, -0.1473]], grad_fn=<AddmmBackward0>)\n",
      "\n",
      "\n",
      "After ReLU: tensor([[0.0000, 0.1273, 0.0000, 0.4142, 0.0000, 0.0000, 0.0000, 0.0000, 0.2051,\n",
      "         0.2606, 0.3201, 0.0000, 0.4031, 0.0000, 0.2028, 0.0000, 0.0000, 0.6014,\n",
      "         0.1616, 0.0000],\n",
      "        [0.1039, 0.1939, 0.0000, 0.0000, 0.0000, 0.0000, 0.0000, 0.0000, 0.0951,\n",
      "         0.2352, 0.4781, 0.0000, 0.2166, 0.0000, 0.0000, 0.0349, 0.0000, 0.5190,\n",
      "         0.2484, 0.0000],\n",
      "        [0.0572, 0.1450, 0.0000, 0.4308, 0.0000, 0.0000, 0.0000, 0.0000, 0.1910,\n",
      "         0.4054, 0.4508, 0.0079, 0.4659, 0.0000, 0.0000, 0.0000, 0.0000, 0.3010,\n",
      "         0.0276, 0.0000]], grad_fn=<ReluBackward0>)\n",
      "\n",
      "\n"
     ]
    }
   ],
   "source": [
    "print(f\"Before ReLU: {hidden1}\\n\\n\")\n",
    "hidden1 = nn.ReLU()(hidden1)\n",
    "print(f\"After ReLU: {hidden1}\\n\\n\")"
   ]
  },
  {
   "cell_type": "code",
   "execution_count": 12,
   "id": "b552c1af",
   "metadata": {},
   "outputs": [],
   "source": [
    "seq_model = nn.Sequential(\n",
    "    nn.Flatten(),\n",
    "    layer1,\n",
    "    nn.ReLU(),\n",
    "    nn.Linear(20, 10)\n",
    ")\n",
    "logits = seq_model(input_image)"
   ]
  },
  {
   "cell_type": "code",
   "execution_count": 13,
   "id": "8262071c",
   "metadata": {},
   "outputs": [
    {
     "name": "stdout",
     "output_type": "stream",
     "text": [
      "tensor([[ 0.2385,  0.0315,  0.1233, -0.2139,  0.3527, -0.3347,  0.1765, -0.1882,\n",
      "         -0.1280, -0.1740],\n",
      "        [ 0.2609,  0.0733,  0.1603, -0.1533,  0.3180, -0.2687, -0.0039, -0.1463,\n",
      "         -0.2090, -0.0671],\n",
      "        [ 0.2276,  0.1295,  0.1344, -0.3622,  0.3285, -0.3325,  0.1303, -0.0844,\n",
      "         -0.0940, -0.0843]], grad_fn=<AddmmBackward0>)\n"
     ]
    }
   ],
   "source": [
    "print(logits)"
   ]
  },
  {
   "cell_type": "code",
   "execution_count": 14,
   "id": "4a8be8a9",
   "metadata": {},
   "outputs": [
    {
     "data": {
      "text/plain": [
       "tensor([[0.1254, 0.1020, 0.1118, 0.0798, 0.1406, 0.0707, 0.1179, 0.0819, 0.0869,\n",
       "         0.0830],\n",
       "        [0.1279, 0.1060, 0.1156, 0.0845, 0.1354, 0.0753, 0.0981, 0.0851, 0.0799,\n",
       "         0.0921],\n",
       "        [0.1228, 0.1113, 0.1118, 0.0681, 0.1358, 0.0701, 0.1114, 0.0899, 0.0890,\n",
       "         0.0899]], grad_fn=<SoftmaxBackward0>)"
      ]
     },
     "execution_count": 14,
     "metadata": {},
     "output_type": "execute_result"
    }
   ],
   "source": [
    "softmax = nn.Softmax(dim=1)\n",
    "prediction_probability = softmax(logits)\n",
    "prediction_probability"
   ]
  },
  {
   "cell_type": "code",
   "execution_count": 15,
   "id": "b5fe0419",
   "metadata": {},
   "outputs": [
    {
     "name": "stdout",
     "output_type": "stream",
     "text": [
      "NeuralNetwork(\n",
      "  (flatten): Flatten(start_dim=1, end_dim=-1)\n",
      "  (linear_relu_stack): Sequential(\n",
      "    (0): Linear(in_features=784, out_features=512, bias=True)\n",
      "    (1): ReLU()\n",
      "    (2): Linear(in_features=512, out_features=512, bias=True)\n",
      "    (3): ReLU()\n",
      "    (4): Linear(in_features=512, out_features=10, bias=True)\n",
      "  )\n",
      ")\n"
     ]
    }
   ],
   "source": [
    "print(model)"
   ]
  },
  {
   "cell_type": "code",
   "execution_count": 17,
   "id": "e4e8f3c0",
   "metadata": {},
   "outputs": [
    {
     "name": "stdout",
     "output_type": "stream",
     "text": [
      "Downloading http://fashion-mnist.s3-website.eu-central-1.amazonaws.com/train-images-idx3-ubyte.gz\n",
      "Downloading http://fashion-mnist.s3-website.eu-central-1.amazonaws.com/train-images-idx3-ubyte.gz to ../fashion_mnist\\FashionMNIST\\raw\\train-images-idx3-ubyte.gz\n"
     ]
    },
    {
     "name": "stderr",
     "output_type": "stream",
     "text": [
      "100%|██████████| 26421880/26421880 [00:08<00:00, 3238219.75it/s]\n"
     ]
    },
    {
     "name": "stdout",
     "output_type": "stream",
     "text": [
      "Extracting ../fashion_mnist\\FashionMNIST\\raw\\train-images-idx3-ubyte.gz to ../fashion_mnist\\FashionMNIST\\raw\n",
      "\n",
      "Downloading http://fashion-mnist.s3-website.eu-central-1.amazonaws.com/train-labels-idx1-ubyte.gz\n",
      "Downloading http://fashion-mnist.s3-website.eu-central-1.amazonaws.com/train-labels-idx1-ubyte.gz to ../fashion_mnist\\FashionMNIST\\raw\\train-labels-idx1-ubyte.gz\n"
     ]
    },
    {
     "name": "stderr",
     "output_type": "stream",
     "text": [
      "100%|██████████| 29515/29515 [00:00<00:00, 241429.92it/s]\n"
     ]
    },
    {
     "name": "stdout",
     "output_type": "stream",
     "text": [
      "Extracting ../fashion_mnist\\FashionMNIST\\raw\\train-labels-idx1-ubyte.gz to ../fashion_mnist\\FashionMNIST\\raw\n",
      "\n",
      "Downloading http://fashion-mnist.s3-website.eu-central-1.amazonaws.com/t10k-images-idx3-ubyte.gz\n",
      "Downloading http://fashion-mnist.s3-website.eu-central-1.amazonaws.com/t10k-images-idx3-ubyte.gz to ../fashion_mnist\\FashionMNIST\\raw\\t10k-images-idx3-ubyte.gz\n"
     ]
    },
    {
     "name": "stderr",
     "output_type": "stream",
     "text": [
      "100%|██████████| 4422102/4422102 [00:03<00:00, 1213818.14it/s]\n"
     ]
    },
    {
     "name": "stdout",
     "output_type": "stream",
     "text": [
      "Extracting ../fashion_mnist\\FashionMNIST\\raw\\t10k-images-idx3-ubyte.gz to ../fashion_mnist\\FashionMNIST\\raw\n",
      "\n",
      "Downloading http://fashion-mnist.s3-website.eu-central-1.amazonaws.com/t10k-labels-idx1-ubyte.gz\n",
      "Downloading http://fashion-mnist.s3-website.eu-central-1.amazonaws.com/t10k-labels-idx1-ubyte.gz to ../fashion_mnist\\FashionMNIST\\raw\\t10k-labels-idx1-ubyte.gz\n"
     ]
    },
    {
     "name": "stderr",
     "output_type": "stream",
     "text": [
      "100%|██████████| 5148/5148 [00:00<?, ?it/s]"
     ]
    },
    {
     "name": "stdout",
     "output_type": "stream",
     "text": [
      "Extracting ../fashion_mnist\\FashionMNIST\\raw\\t10k-labels-idx1-ubyte.gz to ../fashion_mnist\\FashionMNIST\\raw\n",
      "\n"
     ]
    },
    {
     "name": "stderr",
     "output_type": "stream",
     "text": [
      "\n"
     ]
    }
   ],
   "source": [
    "mnist_dataset = datasets.FashionMNIST(root='../fashion_mnist', download=True)"
   ]
  },
  {
   "cell_type": "code",
   "execution_count": 22,
   "id": "c4fa6011",
   "metadata": {},
   "outputs": [],
   "source": [
    "validation_ratio = 0.2\n",
    "test_ratio = 0.1\n",
    "train_num = int((1.0-validation_ratio-test_ratio)*len(mnist_dataset))\n",
    "validation_num = int(validation_ratio*len(mnist_dataset))\n",
    "test_num = int(test_ratio*len(mnist_dataset))"
   ]
  },
  {
   "cell_type": "code",
   "execution_count": 23,
   "id": "fea3d2bf",
   "metadata": {},
   "outputs": [],
   "source": [
    "train_data, validation_data, test_data = torch.utils.data.random_split(mnist_dataset, [train_num, validation_num, test_num])"
   ]
  },
  {
   "cell_type": "code",
   "execution_count": null,
   "id": "ca0a8ff6",
   "metadata": {},
   "outputs": [],
   "source": []
  }
 ],
 "metadata": {
  "kernelspec": {
   "display_name": "Python 3 (ipykernel)",
   "language": "python",
   "name": "python3"
  },
  "language_info": {
   "codemirror_mode": {
    "name": "ipython",
    "version": 3
   },
   "file_extension": ".py",
   "mimetype": "text/x-python",
   "name": "python",
   "nbconvert_exporter": "python",
   "pygments_lexer": "ipython3",
   "version": "3.10.4"
  }
 },
 "nbformat": 4,
 "nbformat_minor": 5
}
