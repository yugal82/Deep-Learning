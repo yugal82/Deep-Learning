{
 "cells": [
  {
   "cell_type": "code",
   "execution_count": 10,
   "id": "fe521f07-42d6-42e9-ab29-3e025ad46a1b",
   "metadata": {},
   "outputs": [],
   "source": [
    "import os\n",
    "import torch\n",
    "from torch import nn, optim\n",
    "from torch.utils.data import DataLoader\n",
    "from torchvision import datasets, transforms"
   ]
  },
  {
   "cell_type": "code",
   "execution_count": 4,
   "id": "6e9899ac-5529-4b69-b1b0-d657e18b70c5",
   "metadata": {},
   "outputs": [],
   "source": [
    "batch_size = 100\n",
    "training_data = datasets.FashionMNIST(root=\"../fashion_mnist\", train=True, transform=transforms.ToTensor())\n",
    "test_data = datasets.FashionMNIST(root=\"../fashion_mnist\", train=False, transform=transforms.ToTensor())\n",
    "\n",
    "train_dataloader = DataLoader(training_data, batch_size=batch_size)\n",
    "test_dataloader = DataLoader(test_data, batch_size=batch_size)"
   ]
  },
  {
   "cell_type": "code",
   "execution_count": 6,
   "id": "64cb4f5b-681c-497c-bfc5-f4fcde7382eb",
   "metadata": {},
   "outputs": [],
   "source": [
    "#define hyperparameters\n",
    "sequence_len = 28\n",
    "input_len = 28\n",
    "hidden_size = 128\n",
    "num_layers = 2\n",
    "num_classes = 10\n",
    "num_epochs = 5\n",
    "learning_rate = 0.01"
   ]
  },
  {
   "cell_type": "code",
   "execution_count": 15,
   "id": "584fe2d0-0743-4031-ba8e-3c09cf183a34",
   "metadata": {},
   "outputs": [],
   "source": [
    "class LSTM(nn.Module):\n",
    "    def __init__(self, input_len, hidden_size, num_classes, num_layers):\n",
    "        super(LSTM, self).__init__()\n",
    "        self.hidden_size = hidden_size\n",
    "        self.num_layers = num_layers\n",
    "        self.lstm = nn.LSTM(input_len, hidden_size, num_layers, batch_first=True)\n",
    "        self.output_layer = nn.Linear(hidden_size, num_classes)\n",
    "\n",
    "    def forward(self, X):\n",
    "        hidden_states = torch.zeros(self.num_layers, X.size(0), self.hidden_size)\n",
    "        cell_states = torch.zeros(self.num_layers, X.size(0), self.hidden_size)\n",
    "        out, _ = self.lstm(X, (hidden_states, cell_states))\n",
    "        out = self.output_layer(out[:, -1, :])\n",
    "        return out\n"
   ]
  },
  {
   "cell_type": "code",
   "execution_count": 16,
   "id": "d495435e-d6c3-4924-a4a1-ab3a4987bc13",
   "metadata": {},
   "outputs": [
    {
     "data": {
      "text/plain": [
       "LSTM(\n",
       "  (lstm): LSTM(28, 128, num_layers=2, batch_first=True)\n",
       "  (output_layer): Linear(in_features=128, out_features=10, bias=True)\n",
       ")"
      ]
     },
     "execution_count": 16,
     "metadata": {},
     "output_type": "execute_result"
    }
   ],
   "source": [
    "model = LSTM(input_len, hidden_size, num_classes, num_layers)\n",
    "model"
   ]
  },
  {
   "cell_type": "code",
   "execution_count": 21,
   "id": "fbb6899e-637e-4651-a66e-632c8d946384",
   "metadata": {},
   "outputs": [],
   "source": [
    "loss_function = nn.CrossEntropyLoss()\n",
    "# optimizer = optim.SGD(model.parameters(), lr=learning_rate)\n",
    "optimizer = optim.Adam(model.parameters(), lr=learning_rate)"
   ]
  },
  {
   "cell_type": "code",
   "execution_count": 22,
   "id": "64ea046e-0aea-42fa-a8bb-1d8aa2693a6c",
   "metadata": {},
   "outputs": [],
   "source": [
    "def train(num_epochs, model, train_dataloader, loss_function):\n",
    "    total_steps = len(train_dataloader)\n",
    "    for epoch in range(num_epochs):\n",
    "        for batch, [images, labels] in enumerate(train_dataloader):\n",
    "            images = images.reshape(-1, sequence_len, input_len)\n",
    "\n",
    "            output = model(images)\n",
    "            loss = loss_function(output, labels)\n",
    "            optimizer.zero_grad()\n",
    "            loss.backward()\n",
    "            optimizer.step()\n",
    "\n",
    "            if(batch+1)%100 == 0:\n",
    "                print(f\"Epoch {epoch+1}; Batch {batch+1} / {total_steps}; Loss: {loss.item():>4f}\")"
   ]
  },
  {
   "cell_type": "code",
   "execution_count": 23,
   "id": "6e675ca7-ae46-4278-a97f-a90e86e14805",
   "metadata": {},
   "outputs": [
    {
     "name": "stdout",
     "output_type": "stream",
     "text": [
      "Epoch 1; Batch 100 / 600; Loss: 1.069049\n",
      "Epoch 1; Batch 200 / 600; Loss: 0.698185\n",
      "Epoch 1; Batch 300 / 600; Loss: 0.486172\n",
      "Epoch 1; Batch 400 / 600; Loss: 0.500845\n",
      "Epoch 1; Batch 500 / 600; Loss: 0.619615\n",
      "Epoch 1; Batch 600 / 600; Loss: 0.328353\n",
      "Epoch 2; Batch 100 / 600; Loss: 0.410029\n",
      "Epoch 2; Batch 200 / 600; Loss: 0.330370\n",
      "Epoch 2; Batch 300 / 600; Loss: 0.317504\n",
      "Epoch 2; Batch 400 / 600; Loss: 0.340645\n",
      "Epoch 2; Batch 500 / 600; Loss: 0.478204\n",
      "Epoch 2; Batch 600 / 600; Loss: 0.281845\n",
      "Epoch 3; Batch 100 / 600; Loss: 0.316833\n",
      "Epoch 3; Batch 200 / 600; Loss: 0.287839\n",
      "Epoch 3; Batch 300 / 600; Loss: 0.289350\n",
      "Epoch 3; Batch 400 / 600; Loss: 0.338230\n",
      "Epoch 3; Batch 500 / 600; Loss: 0.489929\n",
      "Epoch 3; Batch 600 / 600; Loss: 0.251440\n",
      "Epoch 4; Batch 100 / 600; Loss: 0.315510\n",
      "Epoch 4; Batch 200 / 600; Loss: 0.333396\n",
      "Epoch 4; Batch 300 / 600; Loss: 0.231799\n",
      "Epoch 4; Batch 400 / 600; Loss: 0.275805\n",
      "Epoch 4; Batch 500 / 600; Loss: 0.399932\n",
      "Epoch 4; Batch 600 / 600; Loss: 0.190961\n",
      "Epoch 5; Batch 100 / 600; Loss: 0.289014\n",
      "Epoch 5; Batch 200 / 600; Loss: 0.288508\n",
      "Epoch 5; Batch 300 / 600; Loss: 0.215860\n",
      "Epoch 5; Batch 400 / 600; Loss: 0.289901\n",
      "Epoch 5; Batch 500 / 600; Loss: 0.425669\n",
      "Epoch 5; Batch 600 / 600; Loss: 0.187603\n"
     ]
    }
   ],
   "source": [
    "train(num_epochs, model, train_dataloader, loss_function)"
   ]
  },
  {
   "cell_type": "markdown",
   "id": "3c0972be-1a5c-4760-b32e-50a90305681d",
   "metadata": {},
   "source": [
    "The loss using SGD optimizer was 1.7\n",
    "\n",
    "The loss using ADAM optimizer is 0.18"
   ]
  },
  {
   "cell_type": "code",
   "execution_count": null,
   "id": "c3eb3a81-379f-4850-aeef-8e6c573d64c9",
   "metadata": {},
   "outputs": [],
   "source": []
  }
 ],
 "metadata": {
  "kernelspec": {
   "display_name": "Python 3 (ipykernel)",
   "language": "python",
   "name": "python3"
  },
  "language_info": {
   "codemirror_mode": {
    "name": "ipython",
    "version": 3
   },
   "file_extension": ".py",
   "mimetype": "text/x-python",
   "name": "python",
   "nbconvert_exporter": "python",
   "pygments_lexer": "ipython3",
   "version": "3.10.4"
  }
 },
 "nbformat": 4,
 "nbformat_minor": 5
}
