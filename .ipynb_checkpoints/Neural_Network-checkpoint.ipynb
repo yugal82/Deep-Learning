{
 "cells": [
  {
   "cell_type": "code",
   "execution_count": 3,
   "id": "75de9160-bedd-49cc-ac49-63664eccd730",
   "metadata": {},
   "outputs": [],
   "source": [
    "import numpy as np\n",
    "from sklearn.model_selection import train_test_split\n",
    "import pandas as pd\n",
    "import matplotlib.pyplot as plt"
   ]
  },
  {
   "cell_type": "code",
   "execution_count": 4,
   "id": "9e6d8d2b-deb7-4233-8826-eacf0aac8b16",
   "metadata": {},
   "outputs": [
    {
     "data": {
      "text/html": [
       "<div>\n",
       "<style scoped>\n",
       "    .dataframe tbody tr th:only-of-type {\n",
       "        vertical-align: middle;\n",
       "    }\n",
       "\n",
       "    .dataframe tbody tr th {\n",
       "        vertical-align: top;\n",
       "    }\n",
       "\n",
       "    .dataframe thead th {\n",
       "        text-align: right;\n",
       "    }\n",
       "</style>\n",
       "<table border=\"1\" class=\"dataframe\">\n",
       "  <thead>\n",
       "    <tr style=\"text-align: right;\">\n",
       "      <th></th>\n",
       "      <th>age</th>\n",
       "      <th>affordibility</th>\n",
       "      <th>bought_insurance</th>\n",
       "    </tr>\n",
       "  </thead>\n",
       "  <tbody>\n",
       "    <tr>\n",
       "      <th>0</th>\n",
       "      <td>22</td>\n",
       "      <td>1</td>\n",
       "      <td>0</td>\n",
       "    </tr>\n",
       "    <tr>\n",
       "      <th>1</th>\n",
       "      <td>25</td>\n",
       "      <td>0</td>\n",
       "      <td>0</td>\n",
       "    </tr>\n",
       "    <tr>\n",
       "      <th>2</th>\n",
       "      <td>47</td>\n",
       "      <td>1</td>\n",
       "      <td>1</td>\n",
       "    </tr>\n",
       "    <tr>\n",
       "      <th>3</th>\n",
       "      <td>52</td>\n",
       "      <td>0</td>\n",
       "      <td>0</td>\n",
       "    </tr>\n",
       "    <tr>\n",
       "      <th>4</th>\n",
       "      <td>46</td>\n",
       "      <td>1</td>\n",
       "      <td>1</td>\n",
       "    </tr>\n",
       "  </tbody>\n",
       "</table>\n",
       "</div>"
      ],
      "text/plain": [
       "   age  affordibility  bought_insurance\n",
       "0   22              1                 0\n",
       "1   25              0                 0\n",
       "2   47              1                 1\n",
       "3   52              0                 0\n",
       "4   46              1                 1"
      ]
     },
     "execution_count": 4,
     "metadata": {},
     "output_type": "execute_result"
    }
   ],
   "source": [
    "df = pd.read_csv('./Datasets/insurance_data.csv')\n",
    "df.head()"
   ]
  },
  {
   "cell_type": "code",
   "execution_count": 5,
   "id": "a947e8a5-5dc9-44ab-baa9-39c20ae73c40",
   "metadata": {},
   "outputs": [
    {
     "name": "stdout",
     "output_type": "stream",
     "text": [
      "6\n"
     ]
    }
   ],
   "source": [
    "X = df[['age', 'affordibility']]\n",
    "y = df['bought_insurance']\n",
    "\n",
    "X_train, X_test, y_train, y_test = train_test_split(X, y, test_size=0.2, random_state=13)\n",
    "print(len(X_test))"
   ]
  },
  {
   "cell_type": "code",
   "execution_count": 6,
   "id": "7df096bf-f6a4-4ccc-9442-8827934b1593",
   "metadata": {},
   "outputs": [],
   "source": [
    "X_train_scaled = X_train.copy()\n",
    "X_train_scaled['age'] = X_train_scaled['age']/100\n",
    "\n",
    "X_test_scaled = X_test.copy()\n",
    "X_test_scaled['age'] = X_test_scaled['age']/100"
   ]
  },
  {
   "cell_type": "code",
   "execution_count": 7,
   "id": "88e3f052-f913-48b2-80b0-6e5c9d7f71e6",
   "metadata": {},
   "outputs": [
    {
     "data": {
      "text/html": [
       "<div>\n",
       "<style scoped>\n",
       "    .dataframe tbody tr th:only-of-type {\n",
       "        vertical-align: middle;\n",
       "    }\n",
       "\n",
       "    .dataframe tbody tr th {\n",
       "        vertical-align: top;\n",
       "    }\n",
       "\n",
       "    .dataframe thead th {\n",
       "        text-align: right;\n",
       "    }\n",
       "</style>\n",
       "<table border=\"1\" class=\"dataframe\">\n",
       "  <thead>\n",
       "    <tr style=\"text-align: right;\">\n",
       "      <th></th>\n",
       "      <th>age</th>\n",
       "      <th>affordibility</th>\n",
       "    </tr>\n",
       "  </thead>\n",
       "  <tbody>\n",
       "    <tr>\n",
       "      <th>8</th>\n",
       "      <td>0.62</td>\n",
       "      <td>1</td>\n",
       "    </tr>\n",
       "    <tr>\n",
       "      <th>24</th>\n",
       "      <td>0.50</td>\n",
       "      <td>1</td>\n",
       "    </tr>\n",
       "    <tr>\n",
       "      <th>19</th>\n",
       "      <td>0.18</td>\n",
       "      <td>1</td>\n",
       "    </tr>\n",
       "    <tr>\n",
       "      <th>0</th>\n",
       "      <td>0.22</td>\n",
       "      <td>1</td>\n",
       "    </tr>\n",
       "    <tr>\n",
       "      <th>27</th>\n",
       "      <td>0.46</td>\n",
       "      <td>1</td>\n",
       "    </tr>\n",
       "    <tr>\n",
       "      <th>4</th>\n",
       "      <td>0.46</td>\n",
       "      <td>1</td>\n",
       "    </tr>\n",
       "    <tr>\n",
       "      <th>11</th>\n",
       "      <td>0.28</td>\n",
       "      <td>1</td>\n",
       "    </tr>\n",
       "    <tr>\n",
       "      <th>9</th>\n",
       "      <td>0.61</td>\n",
       "      <td>1</td>\n",
       "    </tr>\n",
       "    <tr>\n",
       "      <th>25</th>\n",
       "      <td>0.54</td>\n",
       "      <td>1</td>\n",
       "    </tr>\n",
       "    <tr>\n",
       "      <th>13</th>\n",
       "      <td>0.29</td>\n",
       "      <td>0</td>\n",
       "    </tr>\n",
       "    <tr>\n",
       "      <th>5</th>\n",
       "      <td>0.56</td>\n",
       "      <td>1</td>\n",
       "    </tr>\n",
       "    <tr>\n",
       "      <th>14</th>\n",
       "      <td>0.49</td>\n",
       "      <td>1</td>\n",
       "    </tr>\n",
       "    <tr>\n",
       "      <th>22</th>\n",
       "      <td>0.40</td>\n",
       "      <td>1</td>\n",
       "    </tr>\n",
       "    <tr>\n",
       "      <th>3</th>\n",
       "      <td>0.52</td>\n",
       "      <td>0</td>\n",
       "    </tr>\n",
       "    <tr>\n",
       "      <th>12</th>\n",
       "      <td>0.27</td>\n",
       "      <td>0</td>\n",
       "    </tr>\n",
       "    <tr>\n",
       "      <th>20</th>\n",
       "      <td>0.21</td>\n",
       "      <td>1</td>\n",
       "    </tr>\n",
       "    <tr>\n",
       "      <th>2</th>\n",
       "      <td>0.47</td>\n",
       "      <td>1</td>\n",
       "    </tr>\n",
       "    <tr>\n",
       "      <th>6</th>\n",
       "      <td>0.55</td>\n",
       "      <td>0</td>\n",
       "    </tr>\n",
       "    <tr>\n",
       "      <th>26</th>\n",
       "      <td>0.23</td>\n",
       "      <td>1</td>\n",
       "    </tr>\n",
       "    <tr>\n",
       "      <th>10</th>\n",
       "      <td>0.18</td>\n",
       "      <td>1</td>\n",
       "    </tr>\n",
       "    <tr>\n",
       "      <th>16</th>\n",
       "      <td>0.25</td>\n",
       "      <td>0</td>\n",
       "    </tr>\n",
       "    <tr>\n",
       "      <th>18</th>\n",
       "      <td>0.19</td>\n",
       "      <td>0</td>\n",
       "    </tr>\n",
       "  </tbody>\n",
       "</table>\n",
       "</div>"
      ],
      "text/plain": [
       "     age  affordibility\n",
       "8   0.62              1\n",
       "24  0.50              1\n",
       "19  0.18              1\n",
       "0   0.22              1\n",
       "27  0.46              1\n",
       "4   0.46              1\n",
       "11  0.28              1\n",
       "9   0.61              1\n",
       "25  0.54              1\n",
       "13  0.29              0\n",
       "5   0.56              1\n",
       "14  0.49              1\n",
       "22  0.40              1\n",
       "3   0.52              0\n",
       "12  0.27              0\n",
       "20  0.21              1\n",
       "2   0.47              1\n",
       "6   0.55              0\n",
       "26  0.23              1\n",
       "10  0.18              1\n",
       "16  0.25              0\n",
       "18  0.19              0"
      ]
     },
     "execution_count": 7,
     "metadata": {},
     "output_type": "execute_result"
    }
   ],
   "source": [
    "X_train_scaled"
   ]
  },
  {
   "cell_type": "code",
   "execution_count": 8,
   "id": "f2d126b9-3362-40fd-bab7-3848f64a1c7b",
   "metadata": {},
   "outputs": [],
   "source": [
    "def log_loss(y_true, y_predicted):\n",
    "    epsilon = 1e-15\n",
    "    y_predicted_new = [max(i,epsilon) for i in y_predicted]\n",
    "    y_predicted_new = [min(i,1-epsilon) for i in y_predicted_new]\n",
    "    y_predicted_new = np.array(y_predicted_new)\n",
    "    return -np.mean(y_true*np.log(y_predicted_new)+(1-y_true)*np.log(1-y_predicted_new))"
   ]
  },
  {
   "cell_type": "code",
   "execution_count": 9,
   "id": "da1727ef-4cad-4053-847b-554a4fb60513",
   "metadata": {},
   "outputs": [
    {
     "data": {
      "text/plain": [
       "array([0.99999386, 0.5       , 0.73105858])"
      ]
     },
     "execution_count": 9,
     "metadata": {},
     "output_type": "execute_result"
    }
   ],
   "source": [
    "def sigmoid_numpy(X):\n",
    "    return 1/(1 + np.exp(-X))\n",
    "\n",
    "sigmoid_numpy(np.array([12, 0, 1]))"
   ]
  },
  {
   "cell_type": "code",
   "execution_count": 16,
   "id": "e5a08439-56d9-4984-b835-a7c293af41b0",
   "metadata": {},
   "outputs": [],
   "source": [
    "class neural_network:\n",
    "    def __init__(self):\n",
    "        self.w1 = 1\n",
    "        self.w2 = 1\n",
    "        self.bias = 0\n",
    "\n",
    "    # gradient descent method\n",
    "    def gradient_descent(self, age, affordibility, y_true, epochs, loss_threshold):\n",
    "    # we try to come up with best values for w1, w2, bias\n",
    "        w1 = w2 = 1\n",
    "        bias = 0\n",
    "        learning_rate = 0.5\n",
    "\n",
    "        n = len(age)\n",
    "        for i in range(epochs):\n",
    "            weighted_sum = w1*age + w2*affordibility + bias\n",
    "            y_predicted = sigmoid_numpy(weighted_sum)\n",
    "\n",
    "            loss = log_loss(y_true, y_predicted)\n",
    "\n",
    "            w1d = (1/n)*np.dot(np.transpose(age),(y_predicted - y_true)) \n",
    "            w2d = (1/n)*np.dot(np.transpose(affordibility),(y_predicted - y_true)) \n",
    "            bias_d = np.mean(y_predicted - y_true)\n",
    "\n",
    "            w1 = w1 - learning_rate*w1d\n",
    "            w2 = w2 - learning_rate*w2d\n",
    "            bias = bias - learning_rate*bias_d\n",
    "\n",
    "            if i%50 == 0:\n",
    "                print(f\"Epoch:{i}, w1:{w1}, w2:{w2}, bias:{bias}, loss:{loss}\")\n",
    "\n",
    "            if loss<=loss_threshold:\n",
    "                print(f\"Epoch:{i}, w1:{w1}, w2:{w2}, bias:{bias}, loss:{loss}\")\n",
    "                break\n",
    "\n",
    "        return w1, w2, bias\n",
    "\n",
    "    # fit method\n",
    "    def fit(self, X, y, epochs, loss_threshold):\n",
    "        self.w1, self.w2, self.bias = self.gradient_descent(X['age'], X['affordibility'], y, epochs, loss_threshold)\n",
    "\n",
    "    def predict(self, X_test):\n",
    "        weighted_sum = X_test['age']*self.w1 + X_test['affordibility']*self.w2 + self.bias\n",
    "        return sigmoid_numpy(weighted_sum)"
   ]
  },
  {
   "cell_type": "code",
   "execution_count": 17,
   "id": "43d3c9c2-9ee2-47fa-b3f8-6c73ef92fc5a",
   "metadata": {},
   "outputs": [
    {
     "name": "stdout",
     "output_type": "stream",
     "text": [
      "Epoch:0, w1:0.9651327599336419, w2:0.9132156721803109, bias:-0.14382765768900405, loss:0.7891487079051143\n",
      "Epoch:50, w1:1.47087282368346, w2:0.9668858470813096, bias:-1.3762453752550694, loss:0.5769284463195493\n",
      "Epoch:100, w1:2.159902298320211, w2:1.2083273283369045, bias:-1.855164884834696, loss:0.5460946210611893\n",
      "Epoch:150, w1:2.801143422604105, w2:1.3381805431216727, bias:-2.221410133020174, loss:0.5234671972165441\n",
      "Epoch:200, w1:3.3899097838026924, w2:1.4147453459757593, bias:-2.521317389764026, loss:0.5056867627954232\n",
      "Epoch:250, w1:3.9275040482519703, w2:1.464671227127734, bias:-2.7779770795357766, loss:0.49133388311503035\n",
      "Epoch:300, w1:4.417546684162967, w2:1.5009244863121816, bias:-3.003979249687541, loss:0.4795886770199994\n",
      "Epoch:350, w1:4.864402872277743, w2:1.530029445571582, bias:-3.2067167593587964, loss:0.4698891497619659\n",
      "Epoch:392, w1:5.209615079180804, w2:1.5514415804090527, bias:-3.362484584079228, loss:0.4630151380127964\n"
     ]
    }
   ],
   "source": [
    "model = neural_network()\n",
    "model.fit(X_train_scaled, y_train, epochs=500, loss_threshold=0.4631)"
   ]
  },
  {
   "cell_type": "code",
   "execution_count": 18,
   "id": "f53b1ce1-3e13-4722-822d-e1290a42d929",
   "metadata": {},
   "outputs": [
    {
     "data": {
      "text/plain": [
       "21    0.118367\n",
       "15    0.741589\n",
       "17    0.770393\n",
       "1     0.113038\n",
       "7     0.441096\n",
       "23    0.630249\n",
       "dtype: float64"
      ]
     },
     "execution_count": 18,
     "metadata": {},
     "output_type": "execute_result"
    }
   ],
   "source": [
    "model.predict(X_test_scaled)"
   ]
  },
  {
   "cell_type": "code",
   "execution_count": null,
   "id": "6dc6a940-1b31-487b-9f23-a30ac148ca97",
   "metadata": {},
   "outputs": [],
   "source": []
  }
 ],
 "metadata": {
  "kernelspec": {
   "display_name": "Python 3 (ipykernel)",
   "language": "python",
   "name": "python3"
  },
  "language_info": {
   "codemirror_mode": {
    "name": "ipython",
    "version": 3
   },
   "file_extension": ".py",
   "mimetype": "text/x-python",
   "name": "python",
   "nbconvert_exporter": "python",
   "pygments_lexer": "ipython3",
   "version": "3.10.4"
  }
 },
 "nbformat": 4,
 "nbformat_minor": 5
}
