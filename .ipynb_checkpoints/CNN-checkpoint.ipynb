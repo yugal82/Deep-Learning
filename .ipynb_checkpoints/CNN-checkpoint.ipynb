{
 "cells": [
  {
   "cell_type": "code",
   "execution_count": 1,
   "id": "d15f06e2-48a3-4966-beef-0867e6af44ba",
   "metadata": {},
   "outputs": [],
   "source": [
    "import numpy as np\n",
    "import tensorflow as tf\n",
    "from tensorflow import keras\n",
    "from keras import datasets\n",
    "import matplotlib.pyplot as plt"
   ]
  },
  {
   "cell_type": "code",
   "execution_count": 2,
   "id": "0f0f518d-8872-4ed8-bc65-5c96159caae7",
   "metadata": {},
   "outputs": [],
   "source": [
    "(X_train, y_train), (X_test, y_test) = datasets.cifar10.load_data()"
   ]
  },
  {
   "cell_type": "code",
   "execution_count": 3,
   "id": "3d0b7cc2-1115-41ab-9e6d-cd8cfabd5ee7",
   "metadata": {},
   "outputs": [
    {
     "data": {
      "text/plain": [
       "((50000, 32, 32, 3), (10000, 32, 32, 3))"
      ]
     },
     "execution_count": 3,
     "metadata": {},
     "output_type": "execute_result"
    }
   ],
   "source": [
    "X_train.shape, X_test.shape"
   ]
  },
  {
   "cell_type": "code",
   "execution_count": 4,
   "id": "5ac66add-38a9-4773-bcc5-7d368f30b160",
   "metadata": {},
   "outputs": [
    {
     "data": {
      "text/plain": [
       "array([[6],\n",
       "       [9],\n",
       "       [9],\n",
       "       [4],\n",
       "       [1]], dtype=uint8)"
      ]
     },
     "execution_count": 4,
     "metadata": {},
     "output_type": "execute_result"
    }
   ],
   "source": [
    "y_train[:5]"
   ]
  },
  {
   "cell_type": "code",
   "execution_count": 5,
   "id": "5c16e9e8-5e41-4d7e-acd6-b454640c70ca",
   "metadata": {},
   "outputs": [
    {
     "data": {
      "text/plain": [
       "array([6, 9, 9, 4, 1], dtype=uint8)"
      ]
     },
     "execution_count": 5,
     "metadata": {},
     "output_type": "execute_result"
    }
   ],
   "source": [
    "y_train = y_train.reshape(-1,)\n",
    "y_train[:5]"
   ]
  },
  {
   "cell_type": "code",
   "execution_count": 6,
   "id": "279d286d-58c0-4b68-8330-8a99f0730c3f",
   "metadata": {},
   "outputs": [],
   "source": [
    "classes = ['airplane', 'automobile', 'bird', 'cat', 'deer', 'dog', 'frog', 'horse', 'ship', 'truck']"
   ]
  },
  {
   "cell_type": "code",
   "execution_count": 7,
   "id": "457d0dce-b7f7-45bc-b284-159730ef12fc",
   "metadata": {},
   "outputs": [],
   "source": [
    "def plot_sample(X, y, index):\n",
    "    plt.figure(figsize=(15,2))\n",
    "    plt.imshow(X[index])\n",
    "    plt.xlabel(classes[y[index]])"
   ]
  },
  {
   "cell_type": "code",
   "execution_count": 8,
   "id": "28a16027-456f-4705-ac2b-5174835c1354",
   "metadata": {},
   "outputs": [
    {
     "data": {
      "image/png": "[encoded data removed]",
      "text/plain": [
       "<Figure size 1500x200 with 1 Axes>"
      ]
     },
     "metadata": {},
     "output_type": "display_data"
    }
   ],
   "source": [
    "plot_sample(X_train, y_train, 0)"
   ]
  },
  {
   "cell_type": "code",
   "execution_count": 9,
   "id": "b5d4eb28-0d09-4914-b816-c8f559b8ed09",
   "metadata": {},
   "outputs": [],
   "source": [
    "X_train = X_train/255\n",
    "X_test = X_test/255"
   ]
  },
  {
   "cell_type": "code",
   "execution_count": 10,
   "id": "5e82880f-bc3b-4d64-ab2e-aad1b376c764",
   "metadata": {},
   "outputs": [
    {
     "name": "stdout",
     "output_type": "stream",
     "text": [
      "Epoch 1/5\n",
      "1563/1563 [==============================] - 243s 154ms/step - loss: 1.8970 - accuracy: 0.3251\n",
      "Epoch 2/5\n",
      "1563/1563 [==============================] - 255s 163ms/step - loss: 1.6685 - accuracy: 0.3992\n",
      "Epoch 3/5\n",
      "1563/1563 [==============================] - 260s 167ms/step - loss: 1.5830 - accuracy: 0.4314\n",
      "Epoch 4/5\n",
      "1563/1563 [==============================] - 233s 149ms/step - loss: 1.5297 - accuracy: 0.4512\n",
      "Epoch 5/5\n",
      "1563/1563 [==============================] - 230s 147ms/step - loss: 1.4916 - accuracy: 0.4651\n"
     ]
    },
    {
     "data": {
      "text/plain": [
       "<keras.src.callbacks.History at 0x210d0f91bd0>"
      ]
     },
     "execution_count": 10,
     "metadata": {},
     "output_type": "execute_result"
    }
   ],
   "source": [
    "# This is a normal artificial neural network (ANN)\n",
    "model = keras.Sequential([\n",
    "    keras.layers.Flatten(input_shape=(32,32,3)),\n",
    "    keras.layers.Dense(3000, activation='relu'),\n",
    "    keras.layers.Dense(1000, activation='relu'),\n",
    "    keras.layers.Dense(10, activation='sigmoid')\n",
    "])\n",
    "\n",
    "model.compile(optimizer='adam', loss='sparse_categorical_crossentropy' , metrics=['accuracy'])\n",
    "\n",
    "model.fit(X_train, y_train, epochs=5)"
   ]
  },
  {
   "cell_type": "code",
   "execution_count": 11,
   "id": "687e92d3-5fd7-48e3-96bc-8f6c5ad25338",
   "metadata": {},
   "outputs": [
    {
     "name": "stdout",
     "output_type": "stream",
     "text": [
      "313/313 [==============================] - 6s 18ms/step - loss: 1.5031 - accuracy: 0.4689\n"
     ]
    },
    {
     "data": {
      "text/plain": [
       "[1.5031331777572632, 0.46889999508857727]"
      ]
     },
     "execution_count": 11,
     "metadata": {},
     "output_type": "execute_result"
    }
   ],
   "source": [
    "model.evaluate(X_test, y_test)"
   ]
  },
  {
   "cell_type": "code",
   "execution_count": 13,
   "id": "6de4c0ff-2b34-476f-ab23-300098dc7376",
   "metadata": {},
   "outputs": [],
   "source": [
    "cnn = keras.Sequential([\n",
    "        # cnn layers\n",
    "        keras.layers.Conv2D(filters=32, kernel_size=(3,3), activation='relu', input_shape=(32,32,3)),\n",
    "        keras.layers.MaxPooling2D((2,2)),\n",
    "        keras.layers.Conv2D(filters=32, kernel_size=(3,3), activation='relu'),\n",
    "        keras.layers.MaxPooling2D((2,2)),\n",
    "\n",
    "        #Dense layers\n",
    "        keras.layers.Flatten(),\n",
    "        keras.layers.Dense(64, activation='relu'),\n",
    "        keras.layers.Dense(10, activation='softmax')\n",
    "    ])"
   ]
  },
  {
   "cell_type": "code",
   "execution_count": 14,
   "id": "c836a705-e02c-49a9-b98b-cfb00ba58a3d",
   "metadata": {},
   "outputs": [],
   "source": [
    "cnn.compile(optimizer='adam', loss='sparse_categorical_crossentropy', metrics=['accuracy'])"
   ]
  },
  {
   "cell_type": "code",
   "execution_count": 15,
   "id": "92106914-f607-4309-9d25-263a8a9651b0",
   "metadata": {},
   "outputs": [
    {
     "name": "stdout",
     "output_type": "stream",
     "text": [
      "Epoch 1/5\n",
      "1563/1563 [==============================] - 48s 29ms/step - loss: 1.5027 - accuracy: 0.4611\n",
      "Epoch 2/5\n",
      "1563/1563 [==============================] - 45s 29ms/step - loss: 1.1695 - accuracy: 0.5892\n",
      "Epoch 3/5\n",
      "1563/1563 [==============================] - 45s 29ms/step - loss: 1.0518 - accuracy: 0.6334\n",
      "Epoch 4/5\n",
      "1563/1563 [==============================] - 45s 29ms/step - loss: 0.9767 - accuracy: 0.6619\n",
      "Epoch 5/5\n",
      "1563/1563 [==============================] - 45s 29ms/step - loss: 0.9237 - accuracy: 0.6795\n"
     ]
    },
    {
     "data": {
      "text/plain": [
       "<keras.src.callbacks.History at 0x21137d86ad0>"
      ]
     },
     "execution_count": 15,
     "metadata": {},
     "output_type": "execute_result"
    }
   ],
   "source": [
    "cnn.fit(X_train, y_train, epochs=5)"
   ]
  },
  {
   "cell_type": "code",
   "execution_count": 16,
   "id": "5c1cc0a7-67c2-4867-acdb-d4ab42cef79b",
   "metadata": {},
   "outputs": [
    {
     "name": "stdout",
     "output_type": "stream",
     "text": [
      "313/313 [==============================] - 4s 12ms/step - loss: 0.9857 - accuracy: 0.6601\n"
     ]
    },
    {
     "data": {
      "text/plain": [
       "[0.9857441186904907, 0.660099983215332]"
      ]
     },
     "execution_count": 16,
     "metadata": {},
     "output_type": "execute_result"
    }
   ],
   "source": [
    "cnn.evaluate(X_test, y_test)"
   ]
  },
  {
   "cell_type": "code",
   "execution_count": 18,
   "id": "192fa24b-4911-497d-b601-7784846b9add",
   "metadata": {},
   "outputs": [
    {
     "name": "stdout",
     "output_type": "stream",
     "text": [
      "313/313 [==============================] - 4s 12ms/step\n"
     ]
    }
   ],
   "source": [
    "y_pred = cnn.predict(X_test)"
   ]
  },
  {
   "cell_type": "code",
   "execution_count": 19,
   "id": "71815b84-4b01-4928-9d88-fd03a4168001",
   "metadata": {},
   "outputs": [
    {
     "data": {
      "text/plain": [
       "array([[1.80463714e-03, 1.12054120e-04, 1.29148159e-02, 5.35459757e-01,\n",
       "        3.75875225e-03, 2.11321592e-01, 1.95950642e-02, 1.97583955e-04,\n",
       "        2.13490367e-01, 1.34534598e-03],\n",
       "       [5.16589954e-02, 1.14369847e-01, 3.14682897e-04, 3.89690576e-05,\n",
       "        1.66875270e-05, 1.51641632e-06, 1.45609420e-06, 1.23557975e-05,\n",
       "        8.31362903e-01, 2.22257641e-03],\n",
       "       [7.68700019e-02, 7.93210119e-02, 3.31705250e-03, 8.22446030e-03,\n",
       "        3.01902532e-03, 2.09073327e-03, 5.34168037e-04, 7.78006739e-04,\n",
       "        7.96015143e-01, 2.98305117e-02],\n",
       "       [6.68290854e-01, 5.20123541e-03, 5.88773564e-03, 2.72841455e-04,\n",
       "        6.75343850e-04, 1.52591165e-05, 9.67648346e-04, 3.16625556e-05,\n",
       "        3.18261415e-01, 3.96054005e-04],\n",
       "       [8.22177244e-05, 1.40365019e-05, 1.50846904e-02, 3.24832462e-02,\n",
       "        6.90079093e-01, 3.27716582e-03, 2.58761138e-01, 7.66467492e-05,\n",
       "        1.31196997e-04, 1.05619047e-05]], dtype=float32)"
      ]
     },
     "execution_count": 19,
     "metadata": {},
     "output_type": "execute_result"
    }
   ],
   "source": [
    "y_pred[:5]"
   ]
  },
  {
   "cell_type": "code",
   "execution_count": 22,
   "id": "b196a305-8239-40ab-8fa2-f3657bc9f56d",
   "metadata": {},
   "outputs": [
    {
     "data": {
      "text/plain": [
       "[3, 8, 8, 0, 4]"
      ]
     },
     "execution_count": 22,
     "metadata": {},
     "output_type": "execute_result"
    }
   ],
   "source": [
    "y_classes = [np.argmax(element) for element in y_pred]\n",
    "y_classes[:5]"
   ]
  },
  {
   "cell_type": "code",
   "execution_count": 23,
   "id": "bf961879-7c7f-466c-8776-9635165e3e3f",
   "metadata": {},
   "outputs": [
    {
     "data": {
      "text/plain": [
       "array([[3],\n",
       "       [8],\n",
       "       [8],\n",
       "       [0],\n",
       "       [6]], dtype=uint8)"
      ]
     },
     "execution_count": 23,
     "metadata": {},
     "output_type": "execute_result"
    }
   ],
   "source": [
    "y_test[:5]"
   ]
  },
  {
   "cell_type": "code",
   "execution_count": null,
   "id": "2ed64be0-729b-42cb-921f-081e14665035",
   "metadata": {},
   "outputs": [],
   "source": []
  }
 ],
 "metadata": {
  "kernelspec": {
   "display_name": "Python 3 (ipykernel)",
   "language": "python",
   "name": "python3"
  },
  "language_info": {
   "codemirror_mode": {
    "name": "ipython",
    "version": 3
   },
   "file_extension": ".py",
   "mimetype": "text/x-python",
   "name": "python",
   "nbconvert_exporter": "python",
   "pygments_lexer": "ipython3",
   "version": "3.10.4"
  }
 },
 "nbformat": 4,
 "nbformat_minor": 5
}
