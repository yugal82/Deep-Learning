{
 "cells": [
  {
   "cell_type": "code",
   "execution_count": 1,
   "id": "529d54b5-99d0-4692-a8ad-eaae90781ffd",
   "metadata": {},
   "outputs": [],
   "source": [
    "import numpy as np"
   ]
  },
  {
   "cell_type": "code",
   "execution_count": 2,
   "id": "5f2f86b2-a083-4f84-9fd9-4535f259208f",
   "metadata": {},
   "outputs": [],
   "source": [
    "y_true = np.array([1,1,0,1,0,0])\n",
    "y_pred = np.array([0.30, 0.89, 0.42, 0.97, 0.22, 0])"
   ]
  },
  {
   "cell_type": "code",
   "execution_count": 13,
   "id": "cdd7bc5a-fff2-4897-b607-d66bf17a8c5b",
   "metadata": {},
   "outputs": [],
   "source": [
    "def mae():\n",
    "    total_error = abs(y_true - y_pred) \n",
    "    # sum = 0\n",
    "    # for i in total_error:\n",
    "    #     sum += i\n",
    "\n",
    "    # mean_absolute_error = sum/len(total_error)\n",
    "    # return mean_absolute_error\n",
    "\n",
    "    return np.mean(total_error)"
   ]
  },
  {
   "cell_type": "code",
   "execution_count": 14,
   "id": "3d04be64-8a7d-4484-8ed0-f9cab792301b",
   "metadata": {},
   "outputs": [
    {
     "data": {
      "text/plain": [
       "0.24666666666666667"
      ]
     },
     "execution_count": 14,
     "metadata": {},
     "output_type": "execute_result"
    }
   ],
   "source": [
    "mae()"
   ]
  },
  {
   "cell_type": "code",
   "execution_count": 17,
   "id": "67155c7f-fb4c-4e9d-a2b7-9ae5af1f5614",
   "metadata": {},
   "outputs": [],
   "source": [
    "def mse():\n",
    "    total_error = 0\n",
    "    for yt, yp in zip(y_true, y_pred):\n",
    "        error = np.square(yt-yp)\n",
    "        print(\"Error: \", error)\n",
    "        total_error += error\n",
    "\n",
    "    mean_squared_error = total_error/len(y_true)\n",
    "    return mean_squared_error"
   ]
  },
  {
   "cell_type": "code",
   "execution_count": 18,
   "id": "4d326696-bd07-4696-a3e4-58f9b7de91c2",
   "metadata": {},
   "outputs": [
    {
     "name": "stdout",
     "output_type": "stream",
     "text": [
      "Error:  0.48999999999999994\n",
      "Error:  0.012099999999999998\n",
      "Error:  0.17639999999999997\n",
      "Error:  0.0009000000000000016\n",
      "Error:  0.0484\n",
      "Error:  0.0\n"
     ]
    },
    {
     "data": {
      "text/plain": [
       "0.12129999999999998"
      ]
     },
     "execution_count": 18,
     "metadata": {},
     "output_type": "execute_result"
    }
   ],
   "source": [
    "mse()"
   ]
  },
  {
   "cell_type": "code",
   "execution_count": 20,
   "id": "5e8507c6-28b2-481d-a7c9-f0d81099f771",
   "metadata": {},
   "outputs": [],
   "source": [
    "epsilon = 1e-15\n"
   ]
  },
  {
   "cell_type": "code",
   "execution_count": 24,
   "id": "7a9b054c-5a3d-48a6-9dbf-4e281aab2101",
   "metadata": {},
   "outputs": [
    {
     "data": {
      "text/plain": [
       "[0.3, 0.89, 0.42, 0.97, 0.22, 1e-15]"
      ]
     },
     "execution_count": 24,
     "metadata": {},
     "output_type": "execute_result"
    }
   ],
   "source": [
    "# chnage the values that are 0 to a value which is very close to 0, i.e 0.0000000000000001\n",
    "y_pred_new = [max(i, epsilon) for i in y_pred]\n",
    "y_pred_new"
   ]
  },
  {
   "cell_type": "code",
   "execution_count": 25,
   "id": "3cb04220-8821-4283-b263-0ff21cfca112",
   "metadata": {},
   "outputs": [
    {
     "data": {
      "text/plain": [
       "[0.3, 0.89, 0.42, 0.97, 0.22, 1e-15]"
      ]
     },
     "execution_count": 25,
     "metadata": {},
     "output_type": "execute_result"
    }
   ],
   "source": [
    "# similarly change the value that 1 to a value which is very close to 1, i.e 0.9999999999999\n",
    "y_pred_new = [min(i,1-epsilon) for i in y_pred_new]\n",
    "y_pred_new"
   ]
  },
  {
   "cell_type": "code",
   "execution_count": 27,
   "id": "ab270e57-d574-4f35-ada0-5c55ade2d072",
   "metadata": {},
   "outputs": [
    {
     "data": {
      "text/plain": [
       "array([3.0e-01, 8.9e-01, 4.2e-01, 9.7e-01, 2.2e-01, 1.0e-15])"
      ]
     },
     "execution_count": 27,
     "metadata": {},
     "output_type": "execute_result"
    }
   ],
   "source": [
    "y_pred_scaled = np.array(y_pred_new)\n",
    "y_pred_scaled"
   ]
  },
  {
   "cell_type": "code",
   "execution_count": 29,
   "id": "b98c3f4a-d9a3-4b13-95f8-bc0129b2f4f4",
   "metadata": {},
   "outputs": [
    {
     "data": {
      "text/plain": [
       "0.35735906046779475"
      ]
     },
     "execution_count": 29,
     "metadata": {},
     "output_type": "execute_result"
    }
   ],
   "source": [
    "-np.mean(y_true*np.log(y_pred_scaled) + (1-y_true)*np.log(1-y_pred_scaled))    "
   ]
  },
  {
   "cell_type": "code",
   "execution_count": null,
   "id": "354f6a61-8244-4bb7-b468-9ed1fb9ab6e6",
   "metadata": {},
   "outputs": [],
   "source": []
  },
  {
   "cell_type": "code",
   "execution_count": null,
   "id": "617a936c-7659-43e8-92e4-bcdb18e0a274",
   "metadata": {},
   "outputs": [],
   "source": []
  }
 ],
 "metadata": {
  "kernelspec": {
   "display_name": "Python 3 (ipykernel)",
   "language": "python",
   "name": "python3"
  },
  "language_info": {
   "codemirror_mode": {
    "name": "ipython",
    "version": 3
   },
   "file_extension": ".py",
   "mimetype": "text/x-python",
   "name": "python",
   "nbconvert_exporter": "python",
   "pygments_lexer": "ipython3",
   "version": "3.10.4"
  }
 },
 "nbformat": 4,
 "nbformat_minor": 5
}
