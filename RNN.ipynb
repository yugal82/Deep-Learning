{
 "cells": [
  {
   "cell_type": "code",
   "execution_count": 1,
   "id": "f83d0010-b3a4-4897-b52c-0561c8bbd687",
   "metadata": {},
   "outputs": [],
   "source": [
    "import tensorflow as tf\n",
    "from tensorflow import keras"
   ]
  },
  {
   "cell_type": "code",
   "execution_count": 3,
   "id": "8799a038-e62a-4ef8-85fe-6fb8fab616a1",
   "metadata": {},
   "outputs": [
    {
     "name": "stdout",
     "output_type": "stream",
     "text": [
      "Model: \"sequential_1\"\n",
      "_________________________________________________________________\n",
      " Layer (type)                Output Shape              Param #   \n",
      "=================================================================\n",
      " simple_rnn_1 (SimpleRNN)    (None, 3)                 27        \n",
      "                                                                 \n",
      " dense_1 (Dense)             (None, 1)                 4         \n",
      "                                                                 \n",
      "=================================================================\n",
      "Total params: 31\n",
      "Trainable params: 31\n",
      "Non-trainable params: 0\n",
      "_________________________________________________________________\n"
     ]
    }
   ],
   "source": [
    "model = keras.Sequential()\n",
    "\n",
    "# input_shape = (4,5) --> there will be 4 timesteps and there will be 5 input features.\n",
    "model.add(keras.layers.SimpleRNN(3, input_shape=(4,5)))\n",
    "model.add(keras.layers.Dense(1, activation='sigmoid'))\n",
    "\n",
    "model.summary()"
   ]
  },
  {
   "cell_type": "code",
   "execution_count": 4,
   "id": "fb6dbb90-71ff-4e4f-b4b4-d84cc44b9cbf",
   "metadata": {},
   "outputs": [
    {
     "data": {
      "text/plain": [
       "<keras.engine.sequential.Sequential at 0x184a71ab490>"
      ]
     },
     "execution_count": 4,
     "metadata": {},
     "output_type": "execute_result"
    }
   ],
   "source": [
    "model"
   ]
  },
  {
   "cell_type": "code",
   "execution_count": 11,
   "id": "209f0d80-902b-48a3-b810-92c4d05b518e",
   "metadata": {},
   "outputs": [
    {
     "data": {
      "text/plain": [
       "array([[-0.4835375 ,  0.21404189, -0.1718139 ],\n",
       "       [ 0.16765898,  0.10860646, -0.23521662],\n",
       "       [ 0.4970116 , -0.14624918, -0.4007309 ],\n",
       "       [ 0.11913365, -0.5067298 , -0.22825342],\n",
       "       [ 0.75095457, -0.06108773,  0.06319255]], dtype=float32)"
      ]
     },
     "execution_count": 11,
     "metadata": {},
     "output_type": "execute_result"
    }
   ],
   "source": [
    "model.get_weights()[0]\n",
    "# these weights are for timestep = 1"
   ]
  },
  {
   "cell_type": "code",
   "execution_count": 12,
   "id": "14339d4b-49c1-4b9b-8a00-1e44f7a88748",
   "metadata": {},
   "outputs": [
    {
     "data": {
      "text/plain": [
       "array([[ 0.03855896,  0.99752396, -0.0588144 ],\n",
       "       [ 0.97594774, -0.02495581,  0.21657157],\n",
       "       [ 0.21456757, -0.06575055, -0.9744935 ]], dtype=float32)"
      ]
     },
     "execution_count": 12,
     "metadata": {},
     "output_type": "execute_result"
    }
   ],
   "source": [
    "model.get_weights()[1]\n",
    "# these weights are for timestep = 2"
   ]
  },
  {
   "cell_type": "code",
   "execution_count": 13,
   "id": "a300654a-688c-45ad-82e8-3fffd09ffb67",
   "metadata": {},
   "outputs": [],
   "source": [
    "model.compile(optimizer='adam', loss=\"binary_categorical_entropy\", metrics=[\"accuracy\"])"
   ]
  },
  {
   "cell_type": "code",
   "execution_count": null,
   "id": "10983be3-07a1-4cd5-86ea-cef262076b26",
   "metadata": {},
   "outputs": [],
   "source": []
  }
 ],
 "metadata": {
  "kernelspec": {
   "display_name": "Python 3 (ipykernel)",
   "language": "python",
   "name": "python3"
  },
  "language_info": {
   "codemirror_mode": {
    "name": "ipython",
    "version": 3
   },
   "file_extension": ".py",
   "mimetype": "text/x-python",
   "name": "python",
   "nbconvert_exporter": "python",
   "pygments_lexer": "ipython3",
   "version": "3.10.4"
  }
 },
 "nbformat": 4,
 "nbformat_minor": 5
}
